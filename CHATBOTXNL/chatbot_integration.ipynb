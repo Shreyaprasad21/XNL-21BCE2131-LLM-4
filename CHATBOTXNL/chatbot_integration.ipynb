{
 "cells": [
  {
   "cell_type": "markdown",
   "id": "ce188c87",
   "metadata": {},
   "source": [
    "# Chatbot Integration - Response Engine & Frontend\n",
    "This notebook includes code for integrating a chatbot with NLG capabilities, context management, multi-modal responses, and frontend integration with real-time interaction and financial data visualization."
   ]
  },
  {
   "cell_type": "markdown",
   "id": "1bc705aa",
   "metadata": {},
   "source": [
    "## 4.1 Chatbot Response Engine - Natural Language Generation"
   ]
  },
  {
   "cell_type": "code",
   "execution_count": null,
   "id": "a622f067",
   "metadata": {},
   "outputs": [],
   "source": [
    "# Install necessary libraries\n",
    "!pip install transformers torch\n",
    "\n",
    "from transformers import pipeline\n",
    "\n",
    "# Load GPT-Neo for Natural Language Generation\n",
    "generator = pipeline(\"text-generation\", model=\"EleutherAI/gpt-neo-1.3B\")\n",
    "\n",
    "# Function to generate chatbot responses\n",
    "def chatbot_response(prompt, max_length=100):\n",
    "    response = generator(prompt, max_length=max_length, do_sample=True)\n",
    "    return response[0]['generated_text']\n",
    "\n",
    "# Example\n",
    "chatbot_response(\"What is the current trend in stock markets?\")\n"
   ]
  },
  {
   "cell_type": "markdown",
   "id": "e8bae584",
   "metadata": {},
   "source": [
    "## 4.1 Chatbot Response Engine - Context Management"
   ]
  },
  {
   "cell_type": "code",
   "execution_count": null,
   "id": "451f99e8",
   "metadata": {},
   "outputs": [],
   "source": [
    "# Implementing Context Management using a basic memory system\n",
    "\n",
    "class ChatbotMemory:\n",
    "    def __init__(self):\n",
    "        self.memory = []\n",
    "\n",
    "    def add_interaction(self, user_input, bot_response):\n",
    "        self.memory.append({\"user\": user_input, \"bot\": bot_response})\n",
    "\n",
    "    def get_last_interactions(self, n=3):\n",
    "        return self.memory[-n:]  # Retrieve last n interactions\n",
    "\n",
    "# Example usage\n",
    "chat_memory = ChatbotMemory()\n",
    "chat_memory.add_interaction(\"Tell me about AI stocks.\", \"AI stocks are performing well in 2024.\")\n",
    "chat_memory.get_last_interactions()\n"
   ]
  },
  {
   "cell_type": "markdown",
   "id": "c0287d42",
   "metadata": {},
   "source": [
    "## 4.2 Frontend Integration - WebSockets for Real-time Interaction"
   ]
  },
  {
   "cell_type": "code",
   "execution_count": null,
   "id": "60eec707",
   "metadata": {},
   "outputs": [],
   "source": [
    "# FastAPI WebSockets for real-time chatbot interaction\n",
    "\n",
    "!pip install fastapi uvicorn\n",
    "\n",
    "from fastapi import FastAPI, WebSocket\n",
    "import uvicorn\n",
    "\n",
    "app = FastAPI()\n",
    "\n",
    "@app.websocket(\"/chat\")\n",
    "async def chatbot_websocket(websocket: WebSocket):\n",
    "    await websocket.accept()\n",
    "    while True:\n",
    "        data = await websocket.receive_text()\n",
    "        response = chatbot_response(data)  # Using the chatbot_response function from earlier\n",
    "        await websocket.send_text(response)\n",
    "\n",
    "# To run the server: uvicorn filename:app --reload\n"
   ]
  },
  {
   "cell_type": "markdown",
   "id": "2905a603",
   "metadata": {},
   "source": [
    "## 4.2 Frontend Integration - Charts & Graphs (Chart.js)"
   ]
  },
  {
   "cell_type": "code",
   "execution_count": null,
   "id": "bb9a123c",
   "metadata": {},
   "outputs": [],
   "source": [
    "# Sample JSON API for Chart.js financial data\n",
    "\n",
    "from fastapi import FastAPI\n",
    "import random\n",
    "\n",
    "app = FastAPI()\n",
    "\n",
    "@app.get(\"/stock_prices\")\n",
    "def get_stock_prices():\n",
    "    return {\n",
    "        \"labels\": [\"Jan\", \"Feb\", \"Mar\", \"Apr\", \"May\"],\n",
    "        \"data\": [random.randint(100, 500) for _ in range(5)]\n",
    "    }\n",
    "\n",
    "# This API will provide real-time stock data to be consumed by Chart.js frontend.\n"
   ]
  }
 ],
 "metadata": {},
 "nbformat": 4,
 "nbformat_minor": 5
}